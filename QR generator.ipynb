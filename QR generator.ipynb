{
 "cells": [
  {
   "cell_type": "code",
   "execution_count": 1,
   "id": "6ee8a579",
   "metadata": {},
   "outputs": [
    {
     "name": "stdout",
     "output_type": "stream",
     "text": [
      "Requirement already satisfied: qrcode[pil] in c:\\users\\dagar\\anaconda3\\lib\\site-packages (7.4.2)\n",
      "Requirement already satisfied: typing-extensions in c:\\users\\dagar\\anaconda3\\lib\\site-packages (from qrcode[pil]) (4.7.1)\n",
      "Requirement already satisfied: pypng in c:\\users\\dagar\\anaconda3\\lib\\site-packages (from qrcode[pil]) (0.20220715.0)\n",
      "Requirement already satisfied: colorama in c:\\users\\dagar\\anaconda3\\lib\\site-packages (from qrcode[pil]) (0.4.6)\n",
      "Requirement already satisfied: pillow>=9.1.0 in c:\\users\\dagar\\anaconda3\\lib\\site-packages (from qrcode[pil]) (9.4.0)\n"
     ]
    }
   ],
   "source": [
    "!pip install qrcode[pil]"
   ]
  },
  {
   "cell_type": "code",
   "execution_count": 2,
   "id": "0e2b2827",
   "metadata": {},
   "outputs": [],
   "source": [
    "import qrcode\n",
    "from PIL import Image\n",
    "from IPython.display import display"
   ]
  },
  {
   "cell_type": "code",
   "execution_count": 3,
   "id": "1cd25784",
   "metadata": {},
   "outputs": [],
   "source": [
    "def generate_qr_code(data, file_name):\n",
    "    qr = qrcode.QRCode(\n",
    "        version=1,\n",
    "        error_correction=qrcode.constants.ERROR_CORRECT_L,\n",
    "        box_size=10,\n",
    "        border=4,\n",
    "    )\n",
    "    qr.add_data(data)\n",
    "    qr.make(fit=True)\n",
    "\n",
    "    img = qr.make_image(fill_color=\"black\", back_color=\"white\")\n",
    "    img.save(file_name)\n",
    "    return img"
   ]
  },
  {
   "cell_type": "code",
   "execution_count": 4,
   "id": "2fb57fef",
   "metadata": {},
   "outputs": [
    {
     "name": "stdout",
     "output_type": "stream",
     "text": [
      "Enter data to encode in QR code: https://chat.openai.com/c/08d81868-8f42-4d11-a487-e334d8501505\n",
      "Enter the name of the QR code file (with extension, e.g., image.png): chatgpt\n"
     ]
    }
   ],
   "source": [
    "data = input(\"Enter data to encode in QR code: \")\n",
    "file_name = input(\"Enter the name of the QR code file (with extension, e.g., image.png): \")\n",
    "\n",
    "qr_code_img = generate_qr_code(data, file_name)"
   ]
  },
  {
   "cell_type": "code",
   "execution_count": 5,
   "id": "7b3374df",
   "metadata": {},
   "outputs": [
    {
     "data": {
      "image/png": "[encoded data removed]",
      "text/plain": [
       "<qrcode.image.pil.PilImage at 0x15eb0847b50>"
      ]
     },
     "metadata": {},
     "output_type": "display_data"
    }
   ],
   "source": [
    "display(qr_code_img)"
   ]
  },
  {
   "cell_type": "code",
   "execution_count": 6,
   "id": "d2c1d802",
   "metadata": {},
   "outputs": [
    {
     "name": "stdout",
     "output_type": "stream",
     "text": [
      "QR code saved as chatgpt\n"
     ]
    }
   ],
   "source": [
    "qr_code_img.save(file_name)\n",
    "print(f\"QR code saved as {file_name}\")"
   ]
  },
  {
   "cell_type": "code",
   "execution_count": null,
   "id": "77a16b3e",
   "metadata": {},
   "outputs": [],
   "source": []
  }
 ],
 "metadata": {
  "kernelspec": {
   "display_name": "Python 3 (ipykernel)",
   "language": "python",
   "name": "python3"
  },
  "language_info": {
   "codemirror_mode": {
    "name": "ipython",
    "version": 3
   },
   "file_extension": ".py",
   "mimetype": "text/x-python",
   "name": "python",
   "nbconvert_exporter": "python",
   "pygments_lexer": "ipython3",
   "version": "3.11.5"
  }
 },
 "nbformat": 4,
 "nbformat_minor": 5
}
